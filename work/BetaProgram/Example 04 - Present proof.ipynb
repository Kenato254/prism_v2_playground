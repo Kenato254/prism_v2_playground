{
 "cells": [
  {
   "cell_type": "markdown",
   "id": "7f64f643-ccd0-44eb-9f00-770a9c9864f5",
   "metadata": {
    "tags": []
   },
   "source": [
    "## Present proof\n",
    "\n",
    "Presenting a proof involves establishing a connection between the issuer and the holder, which is done by following the process outlined in `Example 01 - Connections`. Once the connection is established, the verifier will prepare and send a proof request, which creates a presentation record on both the verifier's and holder's agents. The holder will then retrieve the list of presentations, find the one they wish to accept, and notify the verifier of their acceptance. The accept proof message contains an id of a credential stored in the Holders Agent. Finally, the Verifier will receive the proof from the holder, completing the process.\n",
    "\n",
    "Note: the terminology \"proof request\" and \"presentation request\" may be used interchangeably \n",
    "\n",
    "### ⚠️ Important Note \n",
    "Please run *Example 03 - Issue Credential* before continuing with this example. "
   ]
  },
  {
   "cell_type": "code",
   "execution_count": null,
   "id": "4470368b-5861-4622-b332-355720d2c3eb",
   "metadata": {
    "tags": []
   },
   "outputs": [],
   "source": [
    "#🚨 Run this code cell to import requirements in the Kernel\n",
    "\n",
    "import os\n",
    "import time\n",
    "import datetime\n",
    "import base64\n",
    "from pprint import pprint\n",
    "from dotenv import load_dotenv\n",
    "\n",
    "from prism_agent_open_api_specification_client import Client\n",
    "from prism_agent_open_api_specification_client.types import Response, Unset\n",
    "from prism_agent_open_api_specification_client.models import ConnectionCollection,Connection,ConnectionInvitation,CreateConnectionRequest,AcceptConnectionInvitationRequest\n",
    "from prism_agent_open_api_specification_client.api.connections_management import get_connections,get_connection,create_connection,accept_connection_invitation\n",
    "from prism_agent_open_api_specification_client.models import IssueCredentialRecord, CreateIssueCredentialRecordRequest, IssueCredentialRecordCollection, IssueCredentialRecordAllOfProtocolState\n",
    "from prism_agent_open_api_specification_client.api.issue_credentials_protocol import get_credential_record, get_credential_records, create_credential_offer,accept_credential_offer,issue_credential\n",
    "from prism_agent_open_api_specification_client.models import PresentationStatus, ErrorResponse, Proof, ProofRequestAux, PublicKeyJwk, RequestPresentationInput, RequestPresentationOutput, RequestPresentationAction, RequestPresentationActionAction\n",
    "from prism_agent_open_api_specification_client.api.present_proof import get_presentation, get_all_presentation, request_presentation, update_presentation"
   ]
  },
  {
   "cell_type": "markdown",
   "id": "2c20cf06-b5eb-43ca-97c6-e26fbac4b497",
   "metadata": {
    "tags": []
   },
   "source": [
    "### Ultilitary functions"
   ]
  },
  {
   "cell_type": "code",
   "execution_count": null,
   "id": "f23d8275-00af-4eb9-9d30-245b5dc09504",
   "metadata": {
    "tags": []
   },
   "outputs": [],
   "source": [
    "def get_invitation_str(connection):\n",
    "    parts = connection.invitation.invitation_url.split(\"=\")\n",
    "    return parts[1]\n",
    "\n",
    "def find_proof_request_by_state(client, state):\n",
    "    proof_requests: Response[PresentationStatus] = get_all_presentation.sync(client=client)\n",
    "    #proof_requests.reverse()\n",
    "    for proof_request in proof_requests:\n",
    "        if(proof_request.status == state):\n",
    "            return proof_request\n",
    "    return None \n",
    "\n",
    "def find_credential(client):\n",
    "    credential_records: Response[IssueCredentialRecordCollection] = get_credential_records.sync(client=client)\n",
    "    for offer in credential_records.contents:\n",
    "        if not (type(offer.jwt_credential) is Unset):\n",
    "            return offer\n",
    "    return None \n",
    "\n",
    "def print_proof_request(proof_request):\n",
    "    if hasattr(proof_request, \"presentation_id\"):\n",
    "        print(f\"presentation_id: {proof_request.presentation_id}\")\n",
    "    if hasattr(proof_request, \"status\"):\n",
    "        print(f\"status:          {proof_request.status}\")\n",
    "    if hasattr(proof_request, \"connection_id\"):\n",
    "        print(f\"connection_id:   {proof_request.connection_id}\")\n",
    "\n",
    "def print_connection(connection):\n",
    "    print(f\"connection_id: {connection.connection_id}\")\n",
    "    print(f\"state:         {connection.state}\")\n",
    "    print(f\"label:         {connection.label}\")\n",
    "    print(f\"my_did:        {connection.my_did}\")\n",
    "    print(f\"their_did:     {connection.their_did}\")\n",
    "    print(f\"created_at:    {connection.created_at}\")"
   ]
  },
  {
   "cell_type": "markdown",
   "id": "57053f19-8354-4a52-9c14-ad89c8e4718a",
   "metadata": {},
   "source": [
    "### Client instances\n",
    "\n",
    "We will create two separate clients, one for the Verifier and one for the Holder, in order to establish a connection between the two.\n",
    "\n",
    "⚠️ Remember to update the file variables.env with the URLs and API keys provided to you.\n"
   ]
  },
  {
   "cell_type": "code",
   "execution_count": null,
   "id": "8389e691-de39-49d7-9972-03d3059de644",
   "metadata": {
    "tags": []
   },
   "outputs": [],
   "source": [
    "load_dotenv(\"../BetaProgram/variables.env\")\n",
    "verifierApiKey = os.getenv('VERIFIER_APIKEY')\n",
    "verifierUrl = os.getenv('VERIFIER_URL')\n",
    "\n",
    "holderApiKey = os.getenv('HOLDER_APIKEY')\n",
    "holderUrl = os.getenv('HOLDER_URL')\n",
    "\n",
    "verifier_client = Client(base_url=verifierUrl, headers={\"apiKey\": verifierApiKey})\n",
    "holder_client = Client(base_url=holderUrl, headers={\"apiKey\": holderApiKey})\n",
    "\n",
    "print(f\"Verifier URL:{verifierUrl}\")\n",
    "print(f\"Holder URL:{holderUrl}\")"
   ]
  },
  {
   "cell_type": "markdown",
   "id": "4ef31cb2-1dab-44c8-8d33-059bb8c1a027",
   "metadata": {
    "tags": []
   },
   "source": [
    "### Create connection\n",
    "\n",
    "ℹ️ For details on this see \"Example 01 - Connections\""
   ]
  },
  {
   "cell_type": "code",
   "execution_count": null,
   "id": "4f8772f4-feba-4be2-b000-d083931fee4c",
   "metadata": {
    "tags": []
   },
   "outputs": [],
   "source": [
    "print(\"Please wait...\")\n",
    "\n",
    "conn_request = CreateConnectionRequest()\n",
    "conn_request.label = f'Present proof {datetime.datetime.now().strftime(\"%Y-%m-%d %H:%M:%S\")}'\n",
    "verifier_connection: Response[Connection] =  create_connection.sync(client=verifier_client,json_body=conn_request)\n",
    "\n",
    "invitation = get_invitation_str(verifier_connection)\n",
    "\n",
    "accept_conn_request = AcceptConnectionInvitationRequest(invitation)\n",
    "holder_connection: Response[ConnectionInvitation] =  accept_connection_invitation.sync(client=holder_client,json_body=accept_conn_request)\n",
    "\n",
    "verifier_connection: Response[Connection] = get_connection.sync(client=verifier_client,connection_id=verifier_connection.connection_id)\n",
    "holder_connection: Response[Connection] = get_connection.sync(client=holder_client,connection_id=holder_connection.connection_id)\n",
    "\n",
    "while (verifier_connection.state != 'ConnectionResponseSent' or \n",
    "       not(holder_connection.state == 'ConnectionResponseReceived' or holder_connection.state == 'ConnectionRequestSent')):\n",
    "    verifier_connection: Response[Connection] = get_connection.sync(client=verifier_client,connection_id=verifier_connection.connection_id)\n",
    "    holder_connection: Response[Connection] = get_connection.sync(client=holder_client,connection_id=holder_connection.connection_id)\n",
    "    print(\"Verifier State: {} / Holder State: {} \\n\".format(verifier_connection.state,holder_connection.state))\n",
    "    time.sleep(1)\n",
    "    \n",
    "print(\"Connection established between verifier and Holder!\")\n",
    "print(\"\\nVerifier connection:\\n\")\n",
    "print_connection(verifier_connection)\n",
    "print(\"\\nHolder connection:\\n\")\n",
    "print_connection(holder_connection)"
   ]
  },
  {
   "cell_type": "markdown",
   "id": "3996cf0a-0279-47c5-98c1-24bb4ae00f69",
   "metadata": {},
   "source": [
    "### Verifier - Create proof request\n",
    "The Verifier prepares the proof request, it uses the `connection_id` of the connection with the Holder to define where to send the request. The `proofs` describe the credential requested "
   ]
  },
  {
   "cell_type": "code",
   "execution_count": null,
   "id": "6371eb11-cf89-4063-8d72-ac59ece40715",
   "metadata": {
    "tags": []
   },
   "outputs": [],
   "source": [
    "data = {\n",
    "    \"description\":\"Request presentation of credential\",\n",
    "    \"connectionId\": verifier_connection.connection_id,\n",
    "    \"options\":{\n",
    "        \"challenge\": \"11c91493-01b3-4c4d-ac36-b336bab5bddf\",\n",
    "        \"domain\": \"https://example-verifier.com\"\n",
    "    },\n",
    "    \"proofs\":[\n",
    "        {\n",
    "            \"schemaId\": \"https://schema.org/Person\",\n",
    "            \"trustIssuers\": [\n",
    "                \"did:web:atalaprism.io/users/testUser\"\n",
    "            ]\n",
    "        }\n",
    "    ]\n",
    "}\n",
    "\n",
    "proof_request = RequestPresentationInput.from_dict(data)"
   ]
  },
  {
   "cell_type": "markdown",
   "id": "e34574ec-6931-4d45-943c-38a7d9d9a004",
   "metadata": {},
   "source": [
    "### Verifier - Send proof request\n",
    "\n",
    "The Verifier sends the proof request. This action creates the presentation record in the Verifier side and sends the request to the Holder using the connection"
   ]
  },
  {
   "cell_type": "code",
   "execution_count": null,
   "id": "90d4f75d-5ed7-45b2-8478-dc2b0bd683f3",
   "metadata": {
    "tags": []
   },
   "outputs": [],
   "source": [
    "verifier_proof_request: Response[RequestPresentationInput] = request_presentation.sync(client=verifier_client, json_body=proof_request)\n",
    "print(\"\\nVerifier proof request:\\n\")\n",
    "print_proof_request(verifier_proof_request)"
   ]
  },
  {
   "cell_type": "markdown",
   "id": "1afada58-80f3-4f45-8ea8-8b0ed5ba8b1f",
   "metadata": {},
   "source": [
    "### Holder - Wait for proof request\n",
    "\n",
    "The Holder waits to receive the request"
   ]
  },
  {
   "cell_type": "code",
   "execution_count": null,
   "id": "4b3a3dec-5888-425a-8aa5-1e15f5eddde0",
   "metadata": {
    "tags": []
   },
   "outputs": [],
   "source": [
    "print(\"Please wait...\")\n",
    "\n",
    "holder_proof_request = find_proof_request_by_state(holder_client, \"RequestReceived\")\n",
    "\n",
    "while(holder_proof_request == None):\n",
    "    holder_proof_request = find_proof_request_by_state(holder_client, \"RequestReceived\")\n",
    "    time.sleep(1)\n",
    "\n",
    "print(\"\\nHolder proof request:\\n\")\n",
    "print_proof_request(holder_proof_request)"
   ]
  },
  {
   "cell_type": "markdown",
   "id": "7b2eb401-d308-4e6d-b5ac-fd4060f89619",
   "metadata": {},
   "source": [
    "### Holder - Accept proof request\n",
    "\n",
    "The Holder accepts the proof request by updating the presentation record with the action `REQUEST_ACCEPT`. The update also provides the `proof_id` corresponding to the credential used to fulfill the proof request.\n",
    "\n",
    "⚠️ The program will prompt for a credential `record_id`. Provide the one obtained at the last step of *Example 04 - Issue Credential*\n",
    "\n",
    "**Note: `record_id` and `proof_id` refer to the same value**"
   ]
  },
  {
   "cell_type": "code",
   "execution_count": null,
   "id": "ac8bbee1-d201-40f3-a8c5-af1cc2fcb4df",
   "metadata": {
    "tags": []
   },
   "outputs": [],
   "source": [
    "def valid_credential(client, record_id):\n",
    "    credential_record = get_credential_record.sync(client=client, record_id=record_id)\n",
    "    if credential_record is None:\n",
    "        return False\n",
    "    elif type(credential_record.jwt_credential) is Unset:\n",
    "        return False\n",
    "    else:\n",
    "        return True\n",
    "\n",
    "while True:\n",
    "    credential_record_id = input(\"\\nprovide a credential record_id\").strip()\n",
    "    if credential_record_id == \"\":\n",
    "        print(f\"\\n🚨 The provided credential is not valid. Please create a credential on this agent {holderUrl} to proceed\")\n",
    "    elif(valid_credential(holder_client, credential_record_id)):\n",
    "        print(f\"\\n✅ Credential is valid: {credential_record_id}\")\n",
    "        break\n",
    "    else:\n",
    "        print(f\"\\n🚨 The provided credential is not valid. Please create a credential on this agent {holderUrl} to proceed\")\n",
    "\n",
    "action = RequestPresentationAction(action=RequestPresentationActionAction.REQUEST_ACCEPT, proof_id=[credential_record_id])\n",
    "\n",
    "#Always returns none\n",
    "update_presentation.sync(client=holder_client, json_body=action, id=holder_proof_request.presentation_id)\n",
    "\n",
    "print(\"\\nHolder proof request:\\n\")\n",
    "print(holder_proof_request.presentation_id)"
   ]
  },
  {
   "cell_type": "markdown",
   "id": "28579404-3dd5-407c-b315-10a9bb749f07",
   "metadata": {},
   "source": [
    "### Verifier - Wait for verification\n",
    "\n",
    "The Verifier waits for the proof. Once received, it updates the status of the presentation and gets the verifiable presentation data"
   ]
  },
  {
   "cell_type": "code",
   "execution_count": null,
   "id": "e534639a-40d0-4a60-8324-a7e239419675",
   "metadata": {
    "tags": []
   },
   "outputs": [],
   "source": [
    "print(\"Please wait...\")\n",
    "\n",
    "verifier_proof_request: Response[PresentationStatus] = get_presentation.sync(client=verifier_client, id=verifier_proof_request.presentation_id)\n",
    "\n",
    "print(f\"Verifier presentation: {verifier_proof_request.presentation_id}\")\n",
    "print(f\"Holder presentation:   {holder_proof_request.presentation_id}\\n\")\n",
    "while(verifier_proof_request.status != \"PresentationVerified\"):\n",
    "    verifier_proof_request: Response[PresentationStatus] = get_presentation.sync(client=verifier_client, id=verifier_proof_request.presentation_id)\n",
    "    holder_proof_request: Response[PresentationStatus] = get_presentation.sync(client=holder_client, id=holder_proof_request.presentation_id)\n",
    "    print(\"Verifier State: {} / Holder State: {}\".format(verifier_proof_request.status,holder_proof_request.status))\n",
    "    time.sleep(1)\n",
    "    \n",
    "print_proof_request(verifier_proof_request)"
   ]
  },
  {
   "cell_type": "markdown",
   "id": "51c88389-43c7-422f-afcf-7b97d16f959b",
   "metadata": {},
   "source": [
    "### Verifier - Check the presentation"
   ]
  },
  {
   "cell_type": "markdown",
   "id": "4de96743-5cc1-46c2-b662-b238294df298",
   "metadata": {},
   "source": [
    "The website https://jwt.io/ can be used to decode the verifiable presentation."
   ]
  },
  {
   "cell_type": "code",
   "execution_count": null,
   "id": "a8fcddaa-c26b-4bf2-af5b-1b4d566d94a2",
   "metadata": {
    "tags": []
   },
   "outputs": [],
   "source": [
    "verifier_proof_request.data[0]\n"
   ]
  },
  {
   "cell_type": "code",
   "execution_count": null,
   "id": "febae2f8-8d4a-4933-817e-4e34ae55e38d",
   "metadata": {},
   "outputs": [],
   "source": []
  }
 ],
 "metadata": {
  "kernelspec": {
   "display_name": "Python 3 (ipykernel)",
   "language": "python",
   "name": "python3"
  },
  "language_info": {
   "codemirror_mode": {
    "name": "ipython",
    "version": 3
   },
   "file_extension": ".py",
   "mimetype": "text/x-python",
   "name": "python",
   "nbconvert_exporter": "python",
   "pygments_lexer": "ipython3",
   "version": "3.10.9"
  }
 },
 "nbformat": 4,
 "nbformat_minor": 5
}
