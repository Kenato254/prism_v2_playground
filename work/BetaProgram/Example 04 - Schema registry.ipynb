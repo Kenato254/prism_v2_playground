{
 "cells": [
  {
   "cell_type": "markdown",
   "id": "c9eb1e63-ffe0-45c4-91d7-af4e3cff076f",
   "metadata": {},
   "source": [
    "## Schema Registry\n",
    "\n",
    "The schema registry allows the creation and retrieval of schemas. Deleting schemas is not possible. Updates can be done by by creating a modified copy of the schema with an updated version"
   ]
  },
  {
   "cell_type": "code",
   "execution_count": null,
   "id": "035f3b04-aadf-4282-9ebf-e8eaef0f5ff2",
   "metadata": {
    "tags": []
   },
   "outputs": [],
   "source": [
    "import os\n",
    "import time\n",
    "import datetime\n",
    "import base64\n",
    "import uuid\n",
    "from pprint import pprint\n",
    "from dotenv import load_dotenv\n",
    "from typing import Any, Dict, Optional, Union, cast\n",
    "\n",
    "from prism_agent_open_api_specification_client import Client\n",
    "from prism_agent_open_api_specification_client.models import VerifiableCredentialSchema\n",
    "from prism_agent_open_api_specification_client.models import VerificationCredentialSchemaInput\n",
    "from prism_agent_open_api_specification_client.models import InternalServerError\n",
    "from prism_agent_open_api_specification_client.types import Response\n",
    "from prism_agent_open_api_specification_client.api.schema_registry import create_schema, get_schema_by_id, lookup_schemas_by_query\n"
   ]
  },
  {
   "cell_type": "markdown",
   "id": "88fef08a-cc71-4953-801b-f50c6d553c1b",
   "metadata": {},
   "source": [
    "### Utilitary Functions"
   ]
  },
  {
   "cell_type": "code",
   "execution_count": null,
   "id": "2b13adaa-76a0-4aba-b400-172128565846",
   "metadata": {
    "tags": []
   },
   "outputs": [],
   "source": [
    "def print_schema(schema):\n",
    "    if hasattr(schema, \"id\"):\n",
    "        print(\"id:\", schema.id)\n",
    "    print(\"name:\", schema.name)\n",
    "    print(\"version:\", schema.version)\n",
    "    print(\"author:\", schema.author)\n",
    "    print(\"authored:\", schema.authored)\n",
    "    print(\"tags:\", schema.tags)\n",
    "    print(\"description:\", schema.description)\n",
    "    print(\"attributes:\", schema.attributes)\n",
    "    \n",
    "def print_schema_page(schema_page):\n",
    "    for schema in schema_page.contents:\n",
    "        print_schema(schema)\n",
    "        print()"
   ]
  },
  {
   "cell_type": "markdown",
   "id": "c9485bfe-6255-4e67-b3db-26ce56eb0a98",
   "metadata": {},
   "source": [
    "### Client instances\n",
    "\n",
    "For this example we only need one Client.\n",
    "\n",
    "note: remember to update the file variables.env with the URLs and API keys provided to you.\n"
   ]
  },
  {
   "cell_type": "code",
   "execution_count": null,
   "id": "400aee15-0121-4c0c-88ee-0a83a8489779",
   "metadata": {
    "tags": []
   },
   "outputs": [],
   "source": [
    "load_dotenv(\"../BetaProgram/variables.env\")\n",
    "issuerApiKey = os.getenv('ISSUER_APIKEY')\n",
    "issuerUrl = os.getenv('ISSUER_URL')\n",
    "\n",
    "issuer_client = Client(base_url=issuerUrl, headers={\"apiKey\": issuerApiKey})\n",
    "\n",
    "print(f\"Issuer URL:{issuerUrl}\")"
   ]
  },
  {
   "cell_type": "markdown",
   "id": "b2977798-e9db-4ca6-8969-097e197d25c1",
   "metadata": {},
   "source": [
    "### Create Schema\n",
    "\n",
    "Publish the new schema with attributes to the schema registry on behalf of Cloud Agent. Schema will be signed by the keys of Cloud Agent and issued by the DID that corresponds to it"
   ]
  },
  {
   "cell_type": "code",
   "execution_count": null,
   "id": "b6855de5-e0cc-4d43-b57e-af39f38cdb66",
   "metadata": {
    "tags": []
   },
   "outputs": [],
   "source": [
    "\n",
    "data = {\n",
    "    \"name\": f\"Demo {datetime.datetime.now().strftime('%Y-%m-%d %H:%M:%S')}\",\n",
    "    \"version\": \"1.0\",\n",
    "    \"author\": \"John Doe\",\n",
    "    \"description\": \"Demo schema\",\n",
    "    \"attributes\": [\n",
    "        \"type\",\n",
    "        \"name\"\n",
    "    ],\n",
    "    \"authored\": datetime.datetime.utcnow().strftime(\"%Y-%m-%dT%H:%M:%S.%fZ\"),\n",
    "    \"tags\": [\n",
    "        datetime.datetime.utcnow().strftime(\"%Y-%m-%d\")\n",
    "    ]\n",
    "}\n",
    "\n",
    "credential_schema_input = VerificationCredentialSchemaInput.from_dict(data)\n",
    "credential_schema: Response[Union[InternalServerError, VerifiableCredentialSchema]] = create_schema.sync(client=issuer_client, json_body=credential_schema_input)\n",
    "print(credential_schema)\n",
    "print_schema(credential_schema)"
   ]
  },
  {
   "cell_type": "markdown",
   "id": "c7572057-da0f-44b5-b87d-af391722e8af",
   "metadata": {},
   "source": [
    "### Lookup\n",
    "\n",
    "Lookup schemas by `author`, `name`, `tags` parameters and control the pagination by `offset` and `limit` parameters"
   ]
  },
  {
   "cell_type": "code",
   "execution_count": null,
   "id": "b6f329be-7e75-44b8-b11b-e477940b7e51",
   "metadata": {
    "tags": []
   },
   "outputs": [],
   "source": [
    "schema_page = lookup_schemas_by_query.sync(client=issuer_client, tags=[datetime.datetime.utcnow().strftime(\"%Y-%m-%d\")], limit=1)\n",
    "print_schema_page(schema_page)"
   ]
  },
  {
   "cell_type": "markdown",
   "id": "668c8dca-a60a-41cd-8cb8-27f017eb9a8a",
   "metadata": {},
   "source": [
    "### Fetch\n",
    "Fetch the schema by the unique identifier. Verifiable Credential Schema in json format is returned."
   ]
  },
  {
   "cell_type": "code",
   "execution_count": null,
   "id": "0cfd44bf-ab8d-497d-9ca2-939ab45b5f2e",
   "metadata": {
    "tags": []
   },
   "outputs": [],
   "source": [
    "credential_schema = get_schema_by_id.sync(client=issuer_client, id=credential_schema.id)\n",
    "print_schema(credential_schema)"
   ]
  }
 ],
 "metadata": {
  "kernelspec": {
   "display_name": "Python 3 (ipykernel)",
   "language": "python",
   "name": "python3"
  },
  "language_info": {
   "codemirror_mode": {
    "name": "ipython",
    "version": 3
   },
   "file_extension": ".py",
   "mimetype": "text/x-python",
   "name": "python",
   "nbconvert_exporter": "python",
   "pygments_lexer": "ipython3",
   "version": "3.10.9"
  }
 },
 "nbformat": 4,
 "nbformat_minor": 5
}
