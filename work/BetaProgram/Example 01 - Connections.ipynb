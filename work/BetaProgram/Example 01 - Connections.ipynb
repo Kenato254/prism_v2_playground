{
 "cells": [
  {
   "cell_type": "markdown",
   "id": "0911a63e-9a58-4d0f-a4f9-5106ab0a99c6",
   "metadata": {},
   "source": [
    "# Create a connection\n",
    "\n",
    "The process of establishing a connection between two peers, referred to as the Inviter and Invitee, begins with the Inviter creating an out-of-band (oob) invitation. This invitation contains all the necessary information for the Invitee to connect with the Inviter. Once the invitation is created, it must be handed to the Invitee in some way, such as through email, messaging or QR code. Once the Invitee receives the invitation, they must accept it in order to proceed with the connection. Finally, with the invitation accepted, the connection is established, allowing the two peers to communicate and share data."
   ]
  },
  {
   "cell_type": "code",
   "execution_count": null,
   "id": "5462ef1f-e512-4f39-91e5-4c2b73c5be6b",
   "metadata": {
    "tags": []
   },
   "outputs": [],
   "source": [
    "import os\n",
    "import datetime\n",
    "import time\n",
    "from pprint import pprint\n",
    "from dotenv import load_dotenv\n",
    "\n",
    "from prism_agent_open_api_specification_client import Client\n",
    "from prism_agent_open_api_specification_client.models import ConnectionCollection,Connection,ConnectionInvitation,CreateConnectionRequest,AcceptConnectionInvitationRequest\n",
    "from prism_agent_open_api_specification_client.api.connections_management import get_connections,get_connection,create_connection,accept_connection_invitation\n",
    "from prism_agent_open_api_specification_client.types import Response"
   ]
  },
  {
   "cell_type": "markdown",
   "id": "311e0392-b60b-4e23-bf82-eb05aeeecb10",
   "metadata": {},
   "source": [
    "### Utilitary functions"
   ]
  },
  {
   "cell_type": "code",
   "execution_count": null,
   "id": "9733ecb3-dab9-4c5b-b0c2-025c554150aa",
   "metadata": {},
   "outputs": [],
   "source": [
    "def get_invitation_str(connection):\n",
    "    parts = connection.invitation.invitation_url.split(\"=\")\n",
    "    return parts[1]\n",
    "\n",
    "def print_connection(connection):\n",
    "    print(f\"connection_id: {connection.connection_id}\")\n",
    "    print(f\"state:         {connection.state}\")\n",
    "    print(f\"label:         {connection.label}\")\n",
    "    print(f\"my_did:        {connection.my_did}\")\n",
    "    print(f\"their_did:     {connection.their_did}\")\n",
    "    print(f\"created_at:    {connection.created_at}\")\n",
    "    print(f\"OOB Invitation: {get_invitation_str(connection)}\")"
   ]
  },
  {
   "cell_type": "markdown",
   "id": "46b9afe5-ff61-4116-870b-103d3f065506",
   "metadata": {},
   "source": [
    "### Client instances\n",
    "\n",
    "We will create two separate clients, one for the inviter and one for the invitee, in order to establish a connection between the two. The roles of the inviter and invitee may overlap with the traditional holder, prover, issuer, and verifier relationships. In some cases, the inviter may also have the role of an issuer or verifier, while the invitee may have the role of a holder or prover. This flexibility allows for different scenarios and use cases to be supported within the same flow\n",
    "\n",
    "note: remember to update the file variables.env with the URLs and API keys provided to you.\n"
   ]
  },
  {
   "cell_type": "code",
   "execution_count": null,
   "id": "cb32dc0d-55bc-44cd-865e-19b9502e23d6",
   "metadata": {},
   "outputs": [],
   "source": [
    "load_dotenv(\"../BetaProgram/variables.env\")\n",
    "inviterApiKey = os.getenv('ISSUER_APIKEY')\n",
    "inviterUrl = os.getenv('ISSUER_URL')\n",
    "\n",
    "inviteeApiKey = os.getenv('HOLDER_APIKEY')\n",
    "inviteeUrl = os.getenv('HOLDER_URL')\n",
    "\n",
    "inviter_client = Client(base_url=inviterUrl, headers={\"apiKey\": inviterApiKey})\n",
    "invitee_client = Client(base_url=inviteeUrl, headers={\"apiKey\": inviteeApiKey})\n",
    "\n",
    "print(f\"Inviter URL:{inviterUrl}\")\n",
    "print(f\"Invitee URL:{inviteeUrl}\")"
   ]
  },
  {
   "cell_type": "markdown",
   "id": "0f4ebed2-a890-4463-912c-96cde7ba3961",
   "metadata": {},
   "source": [
    "### Inviter - Create the invitation\n",
    "\n",
    "An invitation is created when a connection is created. The only parameter required is a label to identify the connection with a human-readable format. \n",
    "\n",
    "The connection state, at the Inviter, will be set to `InvitationGenerated`"
   ]
  },
  {
   "cell_type": "code",
   "execution_count": null,
   "id": "09aeafb8-16e6-49ae-a75c-a42fa96572b8",
   "metadata": {},
   "outputs": [],
   "source": [
    "conn_request = CreateConnectionRequest()\n",
    "conn_request.label = f'Connect {datetime.datetime.now().strftime(\"%Y-%m-%d %H:%M:%S\")}'\n",
    "inviter_connection: Response[Connection] =  create_connection.sync(client=inviter_client,json_body=conn_request)\n",
    "\n",
    "invitation = get_invitation_str(inviter_connection)\n",
    "print_connection(inviter_connection)"
   ]
  },
  {
   "cell_type": "markdown",
   "id": "e076cafc-45a0-44b7-ad95-7ead9f5603f8",
   "metadata": {},
   "source": [
    "### Invitee - Accept the invitation \n",
    "\n",
    "When the inviter creates the invitation, there is no connection on the invitee side, which is why the invitation is shared out of band. Here we conveniently use a variable to pass the initation to the invitee\n",
    "\n",
    "The PRISM Agent does the process to establish the connection automatically, so it may not be possible to track all the protocol steps. They progress as described below:\n",
    "\n",
    "Invitee: ConnectionRequestPending --> ConnectionRequestSent --> ConnectionResponseReceived\n",
    "\n",
    "Inviter: InvitationGenerated --> ConnectionResponsePending --> ConnectionResponseSent\n",
    "\n",
    ">**Note -** if the while loop gets stuck replace:  \n",
    ">```while (inviter_connection.state != 'ConnectionResponseSent' or invitee_connection.state != 'ConnectionResponseReceived'):```    \n",
    ">    with:  \n",
    ">```while (inviter_connection.state != 'ConnectionResponseSent' or not(invitee_connection.state == 'ConnectionResponseReceived' or invitee_connection.state == 'ConnectionRequestSent')):```  \n",
    ">and raise a ZenDesk Ticket :)"
   ]
  },
  {
   "cell_type": "code",
   "execution_count": null,
   "id": "7a407846-195e-4ed9-9f2d-6c08ba0e94ef",
   "metadata": {},
   "outputs": [],
   "source": [
    "print(\"Please wait...\")\n",
    "\n",
    "accept_conn_request = AcceptConnectionInvitationRequest(invitation)\n",
    "invitee_connection: Response[ConnectionInvitation] =  accept_connection_invitation.sync(client=invitee_client,json_body=accept_conn_request)\n",
    "\n",
    "while (inviter_connection.state != 'ConnectionResponseSent' or invitee_connection.state != 'ConnectionResponseReceived'):\n",
    "    inviter_connection: Response[Connection] = get_connection.sync(client=inviter_client,connection_id=inviter_connection.connection_id)\n",
    "    invitee_connection: Response[Connection] = get_connection.sync(client=invitee_client,connection_id=invitee_connection.connection_id)\n",
    "    print(\"Inviter State: {} / Invitee State: {} \\n\".format(inviter_connection.state,invitee_connection.state))\n",
    "    time.sleep(1)\n",
    "    \n",
    "print(\"Connection established between Issuer and Holder!\")"
   ]
  },
  {
   "cell_type": "markdown",
   "id": "7a3b2d2b-7039-4d93-8adc-9aed8ad7b77a",
   "metadata": {},
   "source": [
    "### Inviter - Check connection\n",
    "\n",
    "The details of the connection on the Inviter side are as presented below:"
   ]
  },
  {
   "cell_type": "code",
   "execution_count": null,
   "id": "11b7b03d-cddf-483b-b133-67e55bdbafe5",
   "metadata": {},
   "outputs": [],
   "source": [
    "inviter_connection: Response[Connection] =  get_connection.sync(client=inviter_client,connection_id=inviter_connection.connection_id)\n",
    "print_connection(inviter_connection)"
   ]
  },
  {
   "cell_type": "markdown",
   "id": "295ed0ca-be80-406b-913c-b4e8ec8011ed",
   "metadata": {},
   "source": [
    "### Invitee - Check connection\n",
    "\n",
    "The details of the connection on the Invitee side are as presented below:"
   ]
  },
  {
   "cell_type": "code",
   "execution_count": null,
   "id": "3129389a-bca8-4124-9fe8-d6184cee1d71",
   "metadata": {},
   "outputs": [],
   "source": [
    "invitee_connection: Response[Connection] =  get_connection.sync(client=invitee_client,connection_id=invitee_connection.connection_id)\n",
    "print_connection(invitee_connection)"
   ]
  },
  {
   "cell_type": "markdown",
   "id": "60f90e75-84e5-4002-831e-9fc477b84e31",
   "metadata": {},
   "source": [
    "### List all connections\n",
    "\n",
    "The following code retrieves the lists of connections. (only printing the first 3)"
   ]
  },
  {
   "cell_type": "code",
   "execution_count": null,
   "id": "c984557c-5420-46a3-8f0b-c5f0f8e24c95",
   "metadata": {},
   "outputs": [],
   "source": [
    "inviter_connections: Response[ConnectionCollection] = get_connections.sync(client=inviter_client)\n",
    "invitee_connections: Response[ConnectionCollection] = get_connections.sync(client=invitee_client)\n",
    "\n",
    "print(\"Inviter connections\")\n",
    "print(\"-------------------\\n\")\n",
    "pprint(f\"{inviter_connections.contents[0:3]}\")\n",
    "print(\"\\nInvitee connections\")\n",
    "print(\"-------------------\\n\")\n",
    "pprint(f\"{invitee_connections.contents[0:3]}\")"
   ]
  },
  {
   "cell_type": "code",
   "execution_count": null,
   "id": "6545edb2-9166-4d82-b2d5-d47258c76133",
   "metadata": {},
   "outputs": [],
   "source": []
  }
 ],
 "metadata": {
  "kernelspec": {
   "display_name": "Python 3 (ipykernel)",
   "language": "python",
   "name": "python3"
  },
  "language_info": {
   "codemirror_mode": {
    "name": "ipython",
    "version": 3
   },
   "file_extension": ".py",
   "mimetype": "text/x-python",
   "name": "python",
   "nbconvert_exporter": "python",
   "pygments_lexer": "ipython3",
   "version": "3.10.9"
  },
  "vscode": {
   "interpreter": {
    "hash": "916dbcbb3f70747c44a77c7bcd40155683ae19c65e1c03b4aa3499c5328201f1"
   }
  }
 },
 "nbformat": 4,
 "nbformat_minor": 5
}
