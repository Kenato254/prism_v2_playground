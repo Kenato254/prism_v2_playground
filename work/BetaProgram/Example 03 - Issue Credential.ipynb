{
 "cells": [
  {
   "cell_type": "markdown",
   "id": "0c87c711-0271-485b-b1dd-9ceb6b38a3b7",
   "metadata": {},
   "source": [
    "## Issue Credential\n",
    "\n",
    "Issuing a credential involves establishing a connection between the issuer and the holder, which is done by following the process outlined in `Example 01 - Connections`. Once the connection is established, the issuer will prepare and send a credential offer, which creates an issue record on both the issuer's and holder's agents. The holder will then retrieve the list of issue records, find the one they wish to accept, and notify the issuer of their acceptance. Finally, the issuer will issue the credential to the holder, completing the process.\n",
    "\n",
    "This example presents the steps required to issue a credential using Atala PRISM Agents."
   ]
  },
  {
   "cell_type": "code",
   "execution_count": 1,
   "id": "0b784096-9df8-490f-a4be-d247467ae58e",
   "metadata": {
    "tags": []
   },
   "outputs": [],
   "source": [
    "#🚨 Run this code cell to import requirements in the Kernel\n",
    "\n",
    "import os\n",
    "import time\n",
    "import datetime\n",
    "import base64\n",
    "from pprint import pprint\n",
    "from dotenv import load_dotenv\n",
    "from termcolor import colored,cprint\n",
    "\n",
    "from prism_agent_open_api_specification_client import Client\n",
    "from prism_agent_open_api_specification_client.types import Response\n",
    "from prism_agent_open_api_specification_client.models import ErrorResponse\n",
    "from prism_agent_open_api_specification_client.models import Connection,ConnectionInvitation,CreateConnectionRequest,AcceptConnectionInvitationRequest\n",
    "from prism_agent_open_api_specification_client.api.connections_management import get_connection,create_connection,accept_connection_invitation\n",
    "from prism_agent_open_api_specification_client.models import IssueCredentialRecord, CreateIssueCredentialRecordRequest, IssueCredentialRecordBaseClaims, IssueCredentialRecordCollection, IssueCredentialRecordAllOfProtocolState\n",
    "from prism_agent_open_api_specification_client.api.issue_credentials_protocol import get_credential_record, get_credential_records, create_credential_offer,accept_credential_offer,issue_credential\n",
    "from prism_agent_open_api_specification_client.models import CreateManagedDidRequest, CreateManagedDIDResponse\n",
    "from prism_agent_open_api_specification_client.models import ListManagedDIDResponseInner\n",
    "from prism_agent_open_api_specification_client.models import DIDOperationResponse, DIDResponse, DID, Service   \n",
    "from prism_agent_open_api_specification_client.api.did_registrar import create_managed_did, publish_managed_did\n",
    "from prism_agent_open_api_specification_client.api.did import get_did"
   ]
  },
  {
   "cell_type": "markdown",
   "id": "27d5b99e-b917-4845-9811-ee2b56ab39eb",
   "metadata": {},
   "source": [
    "### Ultilitary functions"
   ]
  },
  {
   "cell_type": "code",
   "execution_count": 2,
   "id": "256622d6-ec9c-4189-ade3-5f9a773f3a45",
   "metadata": {
    "tags": []
   },
   "outputs": [],
   "source": [
    "def get_invitation_str(connection):\n",
    "    parts = connection.invitation.invitation_url.split(\"=\")\n",
    "    return parts[1]\n",
    "\n",
    "def find_credential_record_by_state(client, state):\n",
    "    credential_records: Response[IssueCredentialRecordCollection] = get_credential_records.sync(client=client)\n",
    "\n",
    "    for offer in credential_records.contents:\n",
    "        if(offer.protocol_state == state):\n",
    "            return offer\n",
    "    return None \n",
    "\n",
    "def print_credential_record(credential_record):\n",
    "    print(f\"record_id:          {credential_record.record_id}\")\n",
    "    print(f\"subject_id:         {credential_record.subject_id}\")\n",
    "    print(f\"role:               {credential_record.role}\")\n",
    "    print(f\"protocol_state:     {credential_record.protocol_state}\")\n",
    "    print(f\"created_at:         {credential_record.created_at}\")\n",
    "    print(f\"updated_at:         {credential_record.updated_at}\")\n",
    "    \n",
    "def print_connection(connection):\n",
    "    print(f\"connection_id: {connection.connection_id}\")\n",
    "    print(f\"state:         {connection.state}\")\n",
    "    print(f\"label:         {connection.label}\")\n",
    "    print(f\"my_did:        {connection.my_did}\")\n",
    "    print(f\"their_did:     {connection.their_did}\")\n",
    "    print(f\"created_at:    {connection.created_at}\")"
   ]
  },
  {
   "cell_type": "markdown",
   "id": "bb8dc963-b0ef-4666-adb9-24abac2ae625",
   "metadata": {},
   "source": [
    "### Client instances\n",
    "\n",
    "We will create two clients, one for the Issuer and one for the Holder, to establish a connection and perform the issue credential process.\n",
    "\n",
    "⚠️ Remember to update the file variables.env with the URLs and API keys provided to you.\n"
   ]
  },
  {
   "cell_type": "code",
   "execution_count": 3,
   "id": "767fd10e-4ae7-4b17-b932-ac2e8f5d6219",
   "metadata": {
    "tags": []
   },
   "outputs": [
    {
     "name": "stdout",
     "output_type": "stream",
     "text": [
      "Issuer URL:http://host.docker.internal:8080/prism-agent\n",
      "Holder URL:http://host.docker.internal:8090/prism-agent\n"
     ]
    }
   ],
   "source": [
    "load_dotenv(\"../BetaProgram/variables.env\")\n",
    "issuerApiKey = os.getenv('ISSUER_APIKEY')\n",
    "issuerUrl = os.getenv('ISSUER_URL')\n",
    "\n",
    "holderApiKey = os.getenv('HOLDER_APIKEY')\n",
    "holderUrl = os.getenv('HOLDER_URL')\n",
    "\n",
    "issuer_client = Client(base_url=issuerUrl, headers={\"apiKey\": issuerApiKey})\n",
    "holder_client = Client(base_url=holderUrl, headers={\"apiKey\": holderApiKey})\n",
    "\n",
    "print(f\"Issuer URL:{issuerUrl}\")\n",
    "print(f\"Holder URL:{holderUrl}\")"
   ]
  },
  {
   "cell_type": "markdown",
   "id": "66210c60-88b1-438c-aa79-01a5304582a9",
   "metadata": {
    "tags": []
   },
   "source": [
    "### Create connection\n",
    "\n",
    "ℹ️ For details on this see \"Example 01 - Connections\""
   ]
  },
  {
   "cell_type": "code",
   "execution_count": 4,
   "id": "2cba1313-d47f-4c21-bc7d-acd43f6fa2d6",
   "metadata": {
    "tags": []
   },
   "outputs": [
    {
     "name": "stdout",
     "output_type": "stream",
     "text": [
      "Please wait...\n",
      "Issuer connection: 8a1c353d-ebcc-4783-9f8e-0abbfc4affae\n",
      "Holder connection: c38acdae-c07e-4812-8808-fbc1da82fbba\n",
      "\n",
      "Issuer State: InvitationGenerated / Holder State: ConnectionRequestPending\n",
      "Issuer State: ConnectionResponsePending / Holder State: ConnectionResponseReceived\n",
      "Issuer State: ConnectionResponsePending / Holder State: ConnectionResponseReceived\n",
      "Issuer State: ConnectionResponseSent / Holder State: ConnectionResponseReceived\n",
      "Connection established between Issuer and Holder!\n",
      "\n",
      "Issuer connection:\n",
      "\n",
      "connection_id: 8a1c353d-ebcc-4783-9f8e-0abbfc4affae\n",
      "state:         ConnectionResponseSent\n",
      "label:         Issue credential 2023-03-07 18:27:16\n",
      "my_did:        did:peer:2.Ez6LSch17z4mJpDan2jMouDTct5KuDBfeHHLC4PE58UvgHcQ7.Vz6MkuW5jdg67iAhZoc6H7J2kKz5c4FbToqUa29S4R3FMrRsn.SeyJ0IjoiZG0iLCJzIjoiaHR0cDovL2hvc3QuZG9ja2VyLmludGVybmFsOjgwODAvZGlkY29tbSIsInIiOltdLCJhIjpbImRpZGNvbW0vdjIiXX0\n",
      "their_did:     did:peer:2.Ez6LSm288ZWXYtHiWGZAsTi5PCJgqUzceRXUpGHw9DZUdF43Y.Vz6MkkVVakURckQDYQxZBSVazJW7o6wXmi3AuYHuszi5K6QFd.SeyJ0IjoiZG0iLCJzIjoiaHR0cDovL2hvc3QuZG9ja2VyLmludGVybmFsOjgwOTAvZGlkY29tbSIsInIiOltdLCJhIjpbImRpZGNvbW0vdjIiXX0\n",
      "created_at:    2023-03-07 18:27:16+00:00\n",
      "\n",
      "Holder connection:\n",
      "\n",
      "connection_id: c38acdae-c07e-4812-8808-fbc1da82fbba\n",
      "state:         ConnectionResponseReceived\n",
      "label:         <prism_agent_open_api_specification_client.types.Unset object at 0x7f72c56ff1f0>\n",
      "my_did:        did:peer:2.Ez6LSm288ZWXYtHiWGZAsTi5PCJgqUzceRXUpGHw9DZUdF43Y.Vz6MkkVVakURckQDYQxZBSVazJW7o6wXmi3AuYHuszi5K6QFd.SeyJ0IjoiZG0iLCJzIjoiaHR0cDovL2hvc3QuZG9ja2VyLmludGVybmFsOjgwOTAvZGlkY29tbSIsInIiOltdLCJhIjpbImRpZGNvbW0vdjIiXX0\n",
      "their_did:     did:peer:2.Ez6LSch17z4mJpDan2jMouDTct5KuDBfeHHLC4PE58UvgHcQ7.Vz6MkuW5jdg67iAhZoc6H7J2kKz5c4FbToqUa29S4R3FMrRsn.SeyJ0IjoiZG0iLCJzIjoiaHR0cDovL2hvc3QuZG9ja2VyLmludGVybmFsOjgwODAvZGlkY29tbSIsInIiOltdLCJhIjpbImRpZGNvbW0vdjIiXX0\n",
      "created_at:    2023-03-07 18:27:16+00:00\n"
     ]
    }
   ],
   "source": [
    "print(\"Please wait...\")\n",
    "\n",
    "conn_request = CreateConnectionRequest()\n",
    "conn_request.label = f'Issue credential {datetime.datetime.now().strftime(\"%Y-%m-%d %H:%M:%S\")}'\n",
    "issuer_connection: Response[Connection] =  create_connection.sync(client=issuer_client,json_body=conn_request)\n",
    "\n",
    "invitation = get_invitation_str(issuer_connection)\n",
    "\n",
    "accept_conn_request = AcceptConnectionInvitationRequest(invitation)\n",
    "holder_connection: Response[ConnectionInvitation] =  accept_connection_invitation.sync(client=holder_client,json_body=accept_conn_request)\n",
    "\n",
    "\n",
    "issuer_connection: Response[Connection] = get_connection.sync(client=issuer_client,connection_id=issuer_connection.connection_id)\n",
    "holder_connection: Response[Connection] = get_connection.sync(client=holder_client,connection_id=holder_connection.connection_id)\n",
    "\n",
    "print(f\"Issuer connection: {issuer_connection.connection_id}\")\n",
    "print(f\"Holder connection: {holder_connection.connection_id}\\n\")\n",
    "\n",
    "while (issuer_connection.state != 'ConnectionResponseSent' or \n",
    "       not(holder_connection.state == 'ConnectionResponseReceived' or holder_connection.state == 'ConnectionRequestSent')):\n",
    "    issuer_connection: Response[Connection] = get_connection.sync(client=issuer_client,connection_id=issuer_connection.connection_id)\n",
    "    holder_connection: Response[Connection] = get_connection.sync(client=holder_client,connection_id=holder_connection.connection_id)\n",
    "    print(\"Issuer State: {} / Holder State: {}\".format(issuer_connection.state,holder_connection.state))\n",
    "    time.sleep(1)\n",
    "    \n",
    "print(\"Connection established between Issuer and Holder!\")\n",
    "print(\"\\nIssuer connection:\\n\")\n",
    "print_connection(issuer_connection)\n",
    "print(\"\\nHolder connection:\\n\")\n",
    "print_connection(holder_connection)"
   ]
  },
  {
   "cell_type": "markdown",
   "id": "fbb8de82-517c-4aa6-9d0f-506321a719a9",
   "metadata": {},
   "source": [
    "### Holder - Create an unpublished did:prism \n",
    "\n",
    "To issue a verifiable credential, the Holder must provide the credential subject to the Issuer. The credential subject is a DID identifier. We will use a long-form `did:prism` in this example. So the next step is to create an unpublished `did` on the Holder side. It is required to have a key with `purpose` equal to `assertionMethod` in the DID Document template.\n",
    "\n",
    "ℹ️ For details on creating an unpublished `did` see \"Example 02 - DID Registrar\""
   ]
  },
  {
   "cell_type": "code",
   "execution_count": 5,
   "id": "f541a08b-cbd1-4931-99e3-6068a6cbbe9f",
   "metadata": {
    "tags": []
   },
   "outputs": [
    {
     "name": "stdout",
     "output_type": "stream",
     "text": [
      "Subject did (credential subject): did:prism:3b3cf4fc89942db5e84c4f4774c977368a8382f02d95b3f8ff6ff1bbdd44a4a6:Cs0CCsoCElkKBGtleTEQBEJPCglzZWNwMjU2azESILV-iwuC0ZbQCo4l0uJRGNhQ413e4YH2kkZYWaEseruLGiAooIpYsSFC3aTp7MwDdICS6JUw61vMzOZirbJOjUrbmBJZCgRrZXkyEAJCTwoJc2VjcDI1NmsxEiAcQuf8FYngKiJIvc1OxJ-BiuQ6h6n2OY2jRjx_YHWUoxogZB-tMdujutwiKKl5h_UpiuBuPu9xOxOhzh8PhXaVlx4SXAoHbWFzdGVyMBABQk8KCXNlY3AyNTZrMRIg3IHP3PMXes7WOiXbGt4i2xxmlt-YQxpSXLpxHvdwzmYaICjagobmCVU8J5YSYFjMNkDrUd3kaA2bTaZFHSU-wRCcGjQKD2RpZDpwcmlzbTp0ZXN0MRINTGlua2VkRG9tYWlucxoSaHR0cHM6Ly90ZXN0MS5jb20v\n"
     ]
    }
   ],
   "source": [
    "data = { \n",
    "    \"documentTemplate\": {\n",
    "        \"publicKeys\": [\n",
    "            {\n",
    "                \"id\": \"key1\",\n",
    "                \"purpose\": \"authentication\"\n",
    "            },\n",
    "            {\n",
    "                \"id\": \"key2\",\n",
    "                \"purpose\": \"assertionMethod\"\n",
    "            }\n",
    "        ],\n",
    "        \"services\": [\n",
    "            {\n",
    "                \"id\": \"did:prism:test1\",\n",
    "                \"type\": \"LinkedDomains\",\n",
    "                \"serviceEndpoint\": [\n",
    "                    \"https://test1.com\"\n",
    "                ]\n",
    "            }\n",
    "        ]\n",
    "    }\n",
    "}\n",
    "\n",
    "did_request = CreateManagedDidRequest.from_dict(data)\n",
    "subject_did: Response[CreateManagedDIDResponse] = create_managed_did.sync(client=holder_client, json_body=did_request)\n",
    "\n",
    "print(f\"Subject did (credential subject): {subject_did.long_form_did}\")"
   ]
  },
  {
   "cell_type": "markdown",
   "id": "ac37a03f-e3c6-420a-bfd2-15953350f68f",
   "metadata": {},
   "source": [
    "### Issuer - Create and publish a did:prism \n",
    "\n",
    "To issue a verifiable credential, the Issuer must provide the issuing DID. The issuing DID is a DID identifier. We will use a canonical-form `did:prism` in this example. So the next step is to create and publish a `did` on the Issuer side. It is required to have a key with `purpose` equal to `assertionMethod` in the DID Document template.\n",
    "\n",
    "ℹ️ For details on creating and publishing a `did` see \"Example 02 - DID Registrar\""
   ]
  },
  {
   "cell_type": "code",
   "execution_count": 6,
   "id": "09866117-652a-4e5c-a191-25ac673f616d",
   "metadata": {
    "tags": []
   },
   "outputs": [
    {
     "name": "stdout",
     "output_type": "stream",
     "text": [
      "Issuing did: did:prism:ce87a140e0b43ba1feb9b55ece626bd2229e057907bd46c5f866b96738a3b2fe:Cs0CCsoCElkKBGtleTEQBEJPCglzZWNwMjU2azESIPFOjFxjVAbEXJy7YKm-bZXscT0JDNvQvtoc9GYK2kNAGiD_ZX6TNFJYNpPRF4eyd-BCy-jgVNpYTVg7LcJ0TldBcBJZCgRrZXkyEAJCTwoJc2VjcDI1NmsxEiBwRFiF_1M5PhFR9kL0Llyd21aBE5YZC_HIJAQf5hDDWBogdd7_f6KBvfz9r8UlK-6Ssek9DW-RfCXI3iTt8a7tVK4SXAoHbWFzdGVyMBABQk8KCXNlY3AyNTZrMRIg_xqjoZZEUPtU-6YBtZ55OsitDMsPPXDCjngxt1v9GHEaINeC_zLPq9lrxFWZRJxeAmp4V6OHTCTqDtwM3a8o1BRiGjQKD2RpZDpwcmlzbTp0ZXN0MRINTGlua2VkRG9tYWlucxoSaHR0cHM6Ly90ZXN0MS5jb20v\n",
      "Please wait...\n",
      "Please wait...\n",
      "Please wait...\n",
      "Please wait...\n",
      "Issuing did published: did:prism:ce87a140e0b43ba1feb9b55ece626bd2229e057907bd46c5f866b96738a3b2fe\n"
     ]
    }
   ],
   "source": [
    "# Reusing the same did documentTemplate\n",
    "issuing_did: Response[CreateManagedDIDResponse] = create_managed_did.sync(client=issuer_client, json_body=did_request)\n",
    "\n",
    "print(f\"Issuing did: {issuing_did.long_form_did}\")\n",
    "\n",
    "operation_response : (DIDOperationResponse) = publish_managed_did.sync(client=issuer_client, did_ref=issuing_did.long_form_did)\n",
    "\n",
    "print(\"Please wait...\")\n",
    "\n",
    "issuing_did : [DIDResponse] = get_did.sync(client=issuer_client, did_ref=operation_response.scheduled_operation.did_ref)\n",
    "\n",
    "while (isinstance(issuing_did, ErrorResponse)):\n",
    "    issuing_did : [DIDResponse] = get_did.sync(client=issuer_client, did_ref=operation_response.scheduled_operation.did_ref)\n",
    "    print(\"Please wait...\")\n",
    "    time.sleep(10)\n",
    "    \n",
    "print(f\"Issuing did published: {issuing_did.did.id}\")"
   ]
  },
  {
   "cell_type": "markdown",
   "id": "fed2a112-4160-4de0-9673-ffbf37d1bf06",
   "metadata": {},
   "source": [
    "### Issuer - Create credential claim\n",
    "\n",
    "Now that we have the DIDs ready, the next step is for the Issuer to create the credential claim object. The credential claim contains the attributes that will be part of the verifiable credential."
   ]
  },
  {
   "cell_type": "code",
   "execution_count": 7,
   "id": "8fd78b3e-ebd7-466b-a71d-158b7f310d82",
   "metadata": {
    "tags": []
   },
   "outputs": [],
   "source": [
    "data = {\n",
    "        \"firstname\": 'James',\n",
    "        \"lastname\": 'Smith',\n",
    "        \"birthdate\": '01/01/2000'\n",
    "      }\n",
    "\n",
    "credential_claims = IssueCredentialRecordBaseClaims().from_dict(data)"
   ]
  },
  {
   "cell_type": "markdown",
   "id": "a51d2dd2-8355-4193-9900-cf8cd8eea715",
   "metadata": {},
   "source": [
    "### Issuer - Send credential offer\n",
    "\n",
    "Following, the Issuer creates a `CreateIssueCredentialRecordRequest`. It contains the `subject_id`, the `claims` and other metadata. This object is passed to the `create_credential_offer` endpoint.\n",
    "The `create_credential_offer` call creates an `IssueCredentialRecord` on the issuer side, it also sends the credential offer to the Holder."
   ]
  },
  {
   "cell_type": "code",
   "execution_count": 8,
   "id": "28f46366-c57b-4787-b26b-8ae21926c069",
   "metadata": {
    "tags": []
   },
   "outputs": [
    {
     "name": "stdout",
     "output_type": "stream",
     "text": [
      "\n",
      "Issuer credential record:\n",
      "\n",
      "record_id:          b02cafe0-a8e0-402b-9398-d0a6c3909b61\n",
      "subject_id:         did:prism:3b3cf4fc89942db5e84c4f4774c977368a8382f02d95b3f8ff6ff1bbdd44a4a6:Cs0CCsoCElkKBGtleTEQBEJPCglzZWNwMjU2azESILV-iwuC0ZbQCo4l0uJRGNhQ413e4YH2kkZYWaEseruLGiAooIpYsSFC3aTp7MwDdICS6JUw61vMzOZirbJOjUrbmBJZCgRrZXkyEAJCTwoJc2VjcDI1NmsxEiAcQuf8FYngKiJIvc1OxJ-BiuQ6h6n2OY2jRjx_YHWUoxogZB-tMdujutwiKKl5h_UpiuBuPu9xOxOhzh8PhXaVlx4SXAoHbWFzdGVyMBABQk8KCXNlY3AyNTZrMRIg3IHP3PMXes7WOiXbGt4i2xxmlt-YQxpSXLpxHvdwzmYaICjagobmCVU8J5YSYFjMNkDrUd3kaA2bTaZFHSU-wRCcGjQKD2RpZDpwcmlzbTp0ZXN0MRINTGlua2VkRG9tYWlucxoSaHR0cHM6Ly90ZXN0MS5jb20v\n",
      "role:               Issuer\n",
      "protocol_state:     OfferPending\n",
      "created_at:         2023-03-07 18:27:51.910417+00:00\n",
      "updated_at:         <prism_agent_open_api_specification_client.types.Unset object at 0x7f72c56ff1f0>\n"
     ]
    }
   ],
   "source": [
    "credential_offer = CreateIssueCredentialRecordRequest(subject_id=subject_did.long_form_did, \n",
    "                                                      issuing_did=issuing_did.did.id,\n",
    "                                                      claims=credential_claims, \n",
    "                                                      connection_id=issuer_connection.connection_id,\n",
    "                                                      validity_period=3600, \n",
    "                                                      automatic_issuance=False)\n",
    "\n",
    "issuer_credential_record: Response[IssueCredentialRecord] = create_credential_offer.sync(client=issuer_client,json_body=credential_offer)\n",
    "\n",
    "print(\"\\nIssuer credential record:\\n\")\n",
    "print_credential_record(issuer_credential_record)"
   ]
  },
  {
   "cell_type": "markdown",
   "id": "77a8f829-74ea-4f98-8d6c-90a40433a0e4",
   "metadata": {},
   "source": [
    "### Holder - Wait for credential offer\n",
    "\n",
    "The Holder waits to receive the credential offer. When received, it will show up in the Holder's credential records list as a new entry with `protocol_state` equal to `OfferReceived`. The code below waits until a credential offer is received and takes the corresponding credential_record."
   ]
  },
  {
   "cell_type": "code",
   "execution_count": 9,
   "id": "90d092f0-87fa-45da-b34f-081af9152a72",
   "metadata": {
    "tags": []
   },
   "outputs": [
    {
     "name": "stdout",
     "output_type": "stream",
     "text": [
      "\n",
      "Holder credential record:\n",
      "\n",
      "record_id:          65601b27-13ad-4bec-8ba3-e5b51ee03f2e\n",
      "subject_id:         did:prism:3b3cf4fc89942db5e84c4f4774c977368a8382f02d95b3f8ff6ff1bbdd44a4a6:Cs0CCsoCElkKBGtleTEQBEJPCglzZWNwMjU2azESILV-iwuC0ZbQCo4l0uJRGNhQ413e4YH2kkZYWaEseruLGiAooIpYsSFC3aTp7MwDdICS6JUw61vMzOZirbJOjUrbmBJZCgRrZXkyEAJCTwoJc2VjcDI1NmsxEiAcQuf8FYngKiJIvc1OxJ-BiuQ6h6n2OY2jRjx_YHWUoxogZB-tMdujutwiKKl5h_UpiuBuPu9xOxOhzh8PhXaVlx4SXAoHbWFzdGVyMBABQk8KCXNlY3AyNTZrMRIg3IHP3PMXes7WOiXbGt4i2xxmlt-YQxpSXLpxHvdwzmYaICjagobmCVU8J5YSYFjMNkDrUd3kaA2bTaZFHSU-wRCcGjQKD2RpZDpwcmlzbTp0ZXN0MRINTGlua2VkRG9tYWlucxoSaHR0cHM6Ly90ZXN0MS5jb20v\n",
      "role:               Holder\n",
      "protocol_state:     OfferReceived\n",
      "created_at:         2023-03-07 18:27:52.752750+00:00\n",
      "updated_at:         <prism_agent_open_api_specification_client.types.Unset object at 0x7f72c56ff1f0>\n"
     ]
    }
   ],
   "source": [
    "holder_credential_record = find_credential_record_by_state(holder_client, IssueCredentialRecordAllOfProtocolState.OFFERRECEIVED)\n",
    "\n",
    "while(holder_credential_record == None):\n",
    "    holder_credential_record = find_credential_record_by_state(holder_client, IssueCredentialRecordAllOfProtocolState.OFFERRECEIVED)\n",
    "    time.sleep(1)\n",
    "    \n",
    "print(\"\\nHolder credential record:\\n\")\n",
    "print_credential_record(holder_credential_record)"
   ]
  },
  {
   "cell_type": "markdown",
   "id": "c49cf031-2806-4f47-b9aa-4efc11f99342",
   "metadata": {
    "tags": []
   },
   "source": [
    "### Holder - Accept credential offer\n",
    "\n",
    "Now the Holder uses the `accept_credential_offer` endpoint to accept the credential offer. It must provide the `record_id` of the offer. Accepting the credential offer tells the Issuer that the credential can be issued."
   ]
  },
  {
   "cell_type": "code",
   "execution_count": 10,
   "id": "8a0a2b49-1ea4-4f41-9c87-b21ceb78bf34",
   "metadata": {
    "tags": []
   },
   "outputs": [
    {
     "name": "stdout",
     "output_type": "stream",
     "text": [
      "\n",
      "Holder credential record:\n",
      "\n",
      "record_id:          65601b27-13ad-4bec-8ba3-e5b51ee03f2e\n",
      "subject_id:         did:prism:3b3cf4fc89942db5e84c4f4774c977368a8382f02d95b3f8ff6ff1bbdd44a4a6:Cs0CCsoCElkKBGtleTEQBEJPCglzZWNwMjU2azESILV-iwuC0ZbQCo4l0uJRGNhQ413e4YH2kkZYWaEseruLGiAooIpYsSFC3aTp7MwDdICS6JUw61vMzOZirbJOjUrbmBJZCgRrZXkyEAJCTwoJc2VjcDI1NmsxEiAcQuf8FYngKiJIvc1OxJ-BiuQ6h6n2OY2jRjx_YHWUoxogZB-tMdujutwiKKl5h_UpiuBuPu9xOxOhzh8PhXaVlx4SXAoHbWFzdGVyMBABQk8KCXNlY3AyNTZrMRIg3IHP3PMXes7WOiXbGt4i2xxmlt-YQxpSXLpxHvdwzmYaICjagobmCVU8J5YSYFjMNkDrUd3kaA2bTaZFHSU-wRCcGjQKD2RpZDpwcmlzbTp0ZXN0MRINTGlua2VkRG9tYWlucxoSaHR0cHM6Ly90ZXN0MS5jb20v\n",
      "role:               Holder\n",
      "protocol_state:     RequestPending\n",
      "created_at:         2023-03-07 18:27:52.752750+00:00\n",
      "updated_at:         2023-03-07 18:27:54.163705+00:00\n"
     ]
    }
   ],
   "source": [
    "holder_credential_record: Response[IssueCredentialRecord] = accept_credential_offer.sync(client=holder_client, record_id=holder_credential_record.record_id)\n",
    "print(\"\\nHolder credential record:\\n\")\n",
    "print_credential_record(holder_credential_record)"
   ]
  },
  {
   "cell_type": "markdown",
   "id": "b22ba226-c5d9-4590-a270-59a600a2115a",
   "metadata": {},
   "source": [
    "### Issuer - Wait for credential request\n",
    "\n",
    "The Issuer waits to receive the credential request. When received, the credential record state will change to `RequestReceived` in the Issuer's credential records list. The code below waits until a credential request is received and takes the corresponding credential_record."
   ]
  },
  {
   "cell_type": "code",
   "execution_count": 11,
   "id": "dcd1c6d2-6418-4b12-bb87-4dec88a12001",
   "metadata": {
    "tags": []
   },
   "outputs": [
    {
     "name": "stdout",
     "output_type": "stream",
     "text": [
      "Please wait...\n",
      "Issuer credential record: b02cafe0-a8e0-402b-9398-d0a6c3909b61\n",
      "Holder credential record: 65601b27-13ad-4bec-8ba3-e5b51ee03f2e\n",
      "\n",
      "Issuer state: OfferPending / Holder State: RequestPending\n",
      "Issuer state: OfferSent / Holder State: RequestPending\n",
      "Issuer state: RequestReceived / Holder State: RequestPending\n",
      "\n",
      "Issuer credential record:\n",
      "\n",
      "record_id:          b02cafe0-a8e0-402b-9398-d0a6c3909b61\n",
      "subject_id:         did:prism:3b3cf4fc89942db5e84c4f4774c977368a8382f02d95b3f8ff6ff1bbdd44a4a6:Cs0CCsoCElkKBGtleTEQBEJPCglzZWNwMjU2azESILV-iwuC0ZbQCo4l0uJRGNhQ413e4YH2kkZYWaEseruLGiAooIpYsSFC3aTp7MwDdICS6JUw61vMzOZirbJOjUrbmBJZCgRrZXkyEAJCTwoJc2VjcDI1NmsxEiAcQuf8FYngKiJIvc1OxJ-BiuQ6h6n2OY2jRjx_YHWUoxogZB-tMdujutwiKKl5h_UpiuBuPu9xOxOhzh8PhXaVlx4SXAoHbWFzdGVyMBABQk8KCXNlY3AyNTZrMRIg3IHP3PMXes7WOiXbGt4i2xxmlt-YQxpSXLpxHvdwzmYaICjagobmCVU8J5YSYFjMNkDrUd3kaA2bTaZFHSU-wRCcGjQKD2RpZDpwcmlzbTp0ZXN0MRINTGlua2VkRG9tYWlucxoSaHR0cHM6Ly90ZXN0MS5jb20v\n",
      "role:               Issuer\n",
      "protocol_state:     RequestReceived\n",
      "created_at:         2023-03-07 18:27:51.910417+00:00\n",
      "updated_at:         2023-03-07 18:27:56.068877+00:00\n"
     ]
    }
   ],
   "source": [
    "print(\"Please wait...\")\n",
    "\n",
    "issuer_credential_record = get_credential_record.sync(client=issuer_client, record_id=issuer_credential_record.record_id)\n",
    "\n",
    "print(f\"Issuer credential record: {issuer_credential_record.record_id}\")\n",
    "print(f\"Holder credential record: {holder_credential_record.record_id}\\n\")\n",
    "\n",
    "while(issuer_credential_record.protocol_state != IssueCredentialRecordAllOfProtocolState.REQUESTRECEIVED):\n",
    "    issuer_credential_record = get_credential_record.sync(client=issuer_client, record_id=issuer_credential_record.record_id)\n",
    "    holder_credential_record = get_credential_record.sync(client=holder_client, record_id=holder_credential_record.record_id)\n",
    "    print(f\"Issuer state: {issuer_credential_record.protocol_state} / Holder State: {holder_credential_record.protocol_state}\")\n",
    "    time.sleep(1)\n",
    "    \n",
    "print(\"\\nIssuer credential record:\\n\")\n",
    "print_credential_record(issuer_credential_record)"
   ]
  },
  {
   "cell_type": "markdown",
   "id": "208ac467-e00a-4376-93b1-f6843c4fe10f",
   "metadata": {},
   "source": [
    "### Issuer - Accept credential request (issue credential to holder)\n",
    "\n",
    "The Issuer uses the `issue_credential` endpoint to issue the credential. It must provide the `record_id`. When issued the record state changes to `CredentialSent` and the credential is send to the Holder."
   ]
  },
  {
   "cell_type": "code",
   "execution_count": 12,
   "id": "0374cd2a-5094-44f3-ba65-2254015b34ad",
   "metadata": {
    "tags": []
   },
   "outputs": [
    {
     "name": "stdout",
     "output_type": "stream",
     "text": [
      "\n",
      "Issuer credential record:\n",
      "\n",
      "record_id:          b02cafe0-a8e0-402b-9398-d0a6c3909b61\n",
      "subject_id:         did:prism:3b3cf4fc89942db5e84c4f4774c977368a8382f02d95b3f8ff6ff1bbdd44a4a6:Cs0CCsoCElkKBGtleTEQBEJPCglzZWNwMjU2azESILV-iwuC0ZbQCo4l0uJRGNhQ413e4YH2kkZYWaEseruLGiAooIpYsSFC3aTp7MwDdICS6JUw61vMzOZirbJOjUrbmBJZCgRrZXkyEAJCTwoJc2VjcDI1NmsxEiAcQuf8FYngKiJIvc1OxJ-BiuQ6h6n2OY2jRjx_YHWUoxogZB-tMdujutwiKKl5h_UpiuBuPu9xOxOhzh8PhXaVlx4SXAoHbWFzdGVyMBABQk8KCXNlY3AyNTZrMRIg3IHP3PMXes7WOiXbGt4i2xxmlt-YQxpSXLpxHvdwzmYaICjagobmCVU8J5YSYFjMNkDrUd3kaA2bTaZFHSU-wRCcGjQKD2RpZDpwcmlzbTp0ZXN0MRINTGlua2VkRG9tYWlucxoSaHR0cHM6Ly90ZXN0MS5jb20v\n",
      "role:               Issuer\n",
      "protocol_state:     CredentialPending\n",
      "created_at:         2023-03-07 18:27:51.910417+00:00\n",
      "updated_at:         2023-03-07 18:27:57.527857+00:00\n"
     ]
    }
   ],
   "source": [
    "issuer_credential_record: Response[IssueCredentialRecord] = issue_credential.sync(client=issuer_client, record_id=issuer_credential_record.record_id)\n",
    "print(\"\\nIssuer credential record:\\n\")\n",
    "print_credential_record(issuer_credential_record)"
   ]
  },
  {
   "cell_type": "markdown",
   "id": "6658741d-b1b3-4bae-9226-50295235d3d9",
   "metadata": {},
   "source": [
    "### Holder - Wait for credential\n",
    "\n",
    "The Holder waits to receive the credential. When received, it will be added to the Holder's credential record and the `protocol_state` will be updated to `CredentialReceived`. The code below waits until a credential is received."
   ]
  },
  {
   "cell_type": "code",
   "execution_count": 14,
   "id": "42baaa79-ca85-4b32-a28b-b4723a4a92ed",
   "metadata": {
    "tags": []
   },
   "outputs": [
    {
     "name": "stdout",
     "output_type": "stream",
     "text": [
      "Please wait...\n",
      "Issuer credential record: b02cafe0-a8e0-402b-9398-d0a6c3909b61\n",
      "Holder credential record: 65601b27-13ad-4bec-8ba3-e5b51ee03f2e\n",
      "\n",
      "\n",
      "Holder credential record:\n",
      "\n",
      "record_id:          65601b27-13ad-4bec-8ba3-e5b51ee03f2e\n",
      "subject_id:         did:prism:3b3cf4fc89942db5e84c4f4774c977368a8382f02d95b3f8ff6ff1bbdd44a4a6:Cs0CCsoCElkKBGtleTEQBEJPCglzZWNwMjU2azESILV-iwuC0ZbQCo4l0uJRGNhQ413e4YH2kkZYWaEseruLGiAooIpYsSFC3aTp7MwDdICS6JUw61vMzOZirbJOjUrbmBJZCgRrZXkyEAJCTwoJc2VjcDI1NmsxEiAcQuf8FYngKiJIvc1OxJ-BiuQ6h6n2OY2jRjx_YHWUoxogZB-tMdujutwiKKl5h_UpiuBuPu9xOxOhzh8PhXaVlx4SXAoHbWFzdGVyMBABQk8KCXNlY3AyNTZrMRIg3IHP3PMXes7WOiXbGt4i2xxmlt-YQxpSXLpxHvdwzmYaICjagobmCVU8J5YSYFjMNkDrUd3kaA2bTaZFHSU-wRCcGjQKD2RpZDpwcmlzbTp0ZXN0MRINTGlua2VkRG9tYWlucxoSaHR0cHM6Ly90ZXN0MS5jb20v\n",
      "role:               Holder\n",
      "protocol_state:     CredentialReceived\n",
      "created_at:         2023-03-07 18:27:52.752750+00:00\n",
      "updated_at:         2023-03-07 18:28:00.999246+00:00\n"
     ]
    }
   ],
   "source": [
    "print(\"Please wait...\")\n",
    "\n",
    "holder_credential_record = get_credential_record.sync(client=holder_client, record_id=holder_credential_record.record_id)\n",
    "\n",
    "print(f\"Issuer credential record: {issuer_credential_record.record_id}\")\n",
    "print(f\"Holder credential record: {holder_credential_record.record_id}\\n\")\n",
    "\n",
    "while(holder_credential_record.protocol_state != IssueCredentialRecordAllOfProtocolState.CREDENTIALRECEIVED):\n",
    "    issuer_credential_record = get_credential_record.sync(client=issuer_client, record_id=issuer_credential_record.record_id)\n",
    "    holder_credential_record = get_credential_record.sync(client=holder_client, record_id=holder_credential_record.record_id)\n",
    "    print(f\"Issuer state: {issuer_credential_record.protocol_state} / Holder State: {holder_credential_record.protocol_state}\")\n",
    "    time.sleep(1)\n",
    "\n",
    "print(\"\\nHolder credential record:\\n\")\n",
    "print_credential_record(holder_credential_record)"
   ]
  },
  {
   "cell_type": "markdown",
   "id": "7495a570-d40d-4b1d-83d8-f3b6a435ff93",
   "metadata": {},
   "source": [
    "### JWT Credential\n",
    "\n",
    "The JWT Credential is available in the holder credential record. The website https://jwt.io/ can be used to decode the credential."
   ]
  },
  {
   "cell_type": "code",
   "execution_count": 15,
   "id": "bb23fcd1-43bb-4195-9785-505e24de50be",
   "metadata": {
    "tags": []
   },
   "outputs": [
    {
     "name": "stdout",
     "output_type": "stream",
     "text": [
      "eyJhbGciOiJFUzI1NksifQ.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.cpkHQaMNN9SdcOW14EGi95RzFC71Kla0da-dxo-KJUxIDvEK0F4Acic6w_uKblHlxdo928qvO8Ls0RPx3rJhyg\n"
     ]
    }
   ],
   "source": [
    "print(base64.b64decode(holder_credential_record.jwt_credential).decode())"
   ]
  },
  {
   "cell_type": "markdown",
   "id": "3d396b7a-5181-495f-88a5-ef3d02695f7a",
   "metadata": {},
   "source": [
    "### ⚠️ Important Note\n",
    "Keep the Holder credential record identifier at hand, it will be needed to run the next example:"
   ]
  },
  {
   "cell_type": "code",
   "execution_count": 16,
   "id": "82b44917-6b59-4d39-b701-2a189a95a693",
   "metadata": {
    "tags": []
   },
   "outputs": [
    {
     "name": "stdout",
     "output_type": "stream",
     "text": [
      "\n",
      "Holder credential record_id: 65601b27-13ad-4bec-8ba3-e5b51ee03f2e\n",
      "\n"
     ]
    }
   ],
   "source": [
    "print(f\"\\nHolder credential record_id: {holder_credential_record.record_id}\\n\")"
   ]
  },
  {
   "cell_type": "code",
   "execution_count": null,
   "id": "1ee97037-be38-4220-b340-64ffaa573fa4",
   "metadata": {},
   "outputs": [],
   "source": []
  },
  {
   "cell_type": "code",
   "execution_count": null,
   "id": "7ca8d4f8-1e8f-41e8-8dbb-1ba99451ed2a",
   "metadata": {},
   "outputs": [],
   "source": []
  }
 ],
 "metadata": {
  "kernelspec": {
   "display_name": "Python 3 (ipykernel)",
   "language": "python",
   "name": "python3"
  },
  "language_info": {
   "codemirror_mode": {
    "name": "ipython",
    "version": 3
   },
   "file_extension": ".py",
   "mimetype": "text/x-python",
   "name": "python",
   "nbconvert_exporter": "python",
   "pygments_lexer": "ipython3",
   "version": "3.10.9"
  }
 },
 "nbformat": 4,
 "nbformat_minor": 5
}
